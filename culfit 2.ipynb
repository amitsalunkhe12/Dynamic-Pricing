{
 "cells": [
  {
   "cell_type": "markdown",
   "id": "a1e996b7-074c-4ee6-b63c-5372789fafeb",
   "metadata": {},
   "source": [
    "# `Project Title - Dynamic Pricing Strategy`"
   ]
  },
  {
   "cell_type": "markdown",
   "id": "c68e7685-16ff-4241-ac53-591b118ffdb7",
   "metadata": {},
   "source": [
    "In today’s competitive fitness industry, optimizing revenue while maintaining customer satisfaction is a key challenge. CultFit, a leading fitness and wellness brand, offers a variety of fitness classes across multiple locations. These classes vary in terms of activity type, timing, and demand, presenting a unique opportunity for applying dynamic pricing strategies.\n",
    "\n",
    "This project aims to develop a data-driven pricing model that adjusts class prices based on real-time demand, time of day, and geographical location. Traditional flat-rate pricing fails to capture the fluctuations in consumer interest, often leading to either underutilized sessions or lost revenue opportunities during peak hours. By leveraging historical booking data, we can uncover patterns in customer behavior and implement intelligent pricing that aligns with demand trends.\n",
    "\n",
    "Through exploratory analysis, feature engineering, and regression modeling, this study will predict demand for individual sessions and recommend optimal pricing. The ultimate goal is to empower CultFit with a flexible pricing strategy that enhances operational efficiency, customer access, and overall profitability."
   ]
  },
  {
   "cell_type": "markdown",
   "id": "7415f21c-917f-4cae-ab4c-5704572d9559",
   "metadata": {},
   "source": [
    "# `Dataset Description`"
   ]
  },
  {
   "cell_type": "markdown",
   "id": "4d149205-fa8a-45d1-916a-09733c1a72df",
   "metadata": {},
   "source": [
    "### `Overview`\n",
    "The dataset contains detailed information about fitness classes conducted across multiple locations during the months of April, May, and June 2018. The data captures key operational and booking details for each class, enabling analysis of customer demand, revenue generation, and class occupancy trends.\n",
    "\n",
    "### `Data Source`\n",
    "The dataset is divided into two separate files:\n",
    "\n",
    "Classes April-May 2018.csv\n",
    "\n",
    "Classes June 2018.csv\n",
    "\n",
    "Each file contains records of individual fitness classes conducted at various sites.\n",
    "\n",
    "### `Features of the Dataset`\n",
    "\n",
    "### `Column Name\tDescription`\n",
    "`ActivitySiteID`\tUnique ID representing the location/site of the class\n",
    "\n",
    "`ActivityDescription`\tName and time of the fitness class (e.g., Yoga, Zumba, etc.)\n",
    "\n",
    "`BookingEndDateTime`\tDate of the class conducted\n",
    "\n",
    "`BookingStartTime`\tStart time of the class\n",
    "\n",
    "`MaxBookees`\tMaximum capacity allowed for the class\n",
    "\n",
    "`Number Booked `\tActual number of participants who booked the class\n",
    "\n",
    "`Price (INR)`\tPrice charged per participant for the class (in Indian Rupees)\n",
    "\n",
    "### `Size of the Dataset`\n",
    "\n",
    "File Name\tNumber of Records\tMissing Values\n",
    "April-May 2018\t2177 rows\t18 missing price values\n",
    "June 2018\t1112 rows\tNo missing values\n",
    "\n",
    "### `Data Type Summary`\n",
    "\n",
    "`Categorical Data:` ActivitySiteID, ActivityDescription, BookingEndDateTime, BookingStartTime\n",
    "\n",
    "`Numerical Data:` MaxBookees, Number Booked, Price (INR)"
   ]
  },
  {
   "cell_type": "markdown",
   "id": "44939e4b-06b3-4835-a7e9-6db65bf763b5",
   "metadata": {},
   "source": [
    "# Importing Library"
   ]
  },
  {
   "cell_type": "code",
   "execution_count": 50,
   "id": "45b069da-3db8-467b-9fc3-2c1c7ac74d78",
   "metadata": {},
   "outputs": [],
   "source": [
    "# Data manipulation and analysis\n",
    "import pandas as pd\n",
    "import numpy as np\n",
    "\n",
    "# Data visualization\n",
    "import matplotlib.pyplot as plt\n",
    "import seaborn as sns\n",
    "\n",
    "# Handling date and time\n",
    "import datetime as dt\n",
    "\n",
    "# Splitting data into train and test sets\n",
    "from sklearn.model_selection import train_test_split\n",
    "\n",
    "# Machine Learning Model - Random Forest\n",
    "from sklearn.ensemble import RandomForestRegressor  # For Regression\n",
    "from sklearn.ensemble import RandomForestClassifier # For Classification\n",
    "\n",
    "# Evaluation Metrics\n",
    "from sklearn.metrics import mean_absolute_error, mean_squared_error"
   ]
  },
  {
   "cell_type": "code",
   "execution_count": 51,
   "id": "5f170563-05f4-4b52-a406-e57de1f24aad",
   "metadata": {},
   "outputs": [],
   "source": [
    "#Load Data\n",
    "df1 = pd.read_csv(r\"C:\\Users\\shree\\Downloads\\Classes June 2018.csv\", encoding = 'ISO-8859-1')\n",
    "df2 = pd.read_csv(r\"C:\\Users\\shree\\Downloads\\Classes April-May 2018.csv\", encoding = 'ISO-8859-1')"
   ]
  },
  {
   "cell_type": "markdown",
   "id": "149372f2-b569-4757-81a8-838611e5d19b",
   "metadata": {},
   "source": [
    "# Data  Merging"
   ]
  },
  {
   "cell_type": "code",
   "execution_count": 52,
   "id": "c674a62e-43f1-4919-86fd-74bcee8e9d9a",
   "metadata": {},
   "outputs": [],
   "source": [
    "final_df = pd.concat([df1, df2], ignore_index=True)"
   ]
  },
  {
   "cell_type": "code",
   "execution_count": 53,
   "id": "cf4154d6-72f2-449d-99c7-e36df4a99926",
   "metadata": {},
   "outputs": [
    {
     "data": {
      "text/html": [
       "<div>\n",
       "<style scoped>\n",
       "    .dataframe tbody tr th:only-of-type {\n",
       "        vertical-align: middle;\n",
       "    }\n",
       "\n",
       "    .dataframe tbody tr th {\n",
       "        vertical-align: top;\n",
       "    }\n",
       "\n",
       "    .dataframe thead th {\n",
       "        text-align: right;\n",
       "    }\n",
       "</style>\n",
       "<table border=\"1\" class=\"dataframe\">\n",
       "  <thead>\n",
       "    <tr style=\"text-align: right;\">\n",
       "      <th></th>\n",
       "      <th>ActivitySiteID</th>\n",
       "      <th>ActivityDescription</th>\n",
       "      <th>BookingEndDateTime (Month / Day / Year)</th>\n",
       "      <th>BookingStartTime</th>\n",
       "      <th>MaxBookees</th>\n",
       "      <th>Number Booked</th>\n",
       "      <th>Price (INR)</th>\n",
       "    </tr>\n",
       "  </thead>\n",
       "  <tbody>\n",
       "    <tr>\n",
       "      <th>0</th>\n",
       "      <td>BRP</td>\n",
       "      <td>20:20:20  9.30-10.30am</td>\n",
       "      <td>01-Jun-18</td>\n",
       "      <td>9:30:00</td>\n",
       "      <td>35</td>\n",
       "      <td>28</td>\n",
       "      <td>499.0</td>\n",
       "    </tr>\n",
       "    <tr>\n",
       "      <th>1</th>\n",
       "      <td>BRP</td>\n",
       "      <td>20:20:20  9.30-10.30am</td>\n",
       "      <td>08-Jun-18</td>\n",
       "      <td>9:30:00</td>\n",
       "      <td>35</td>\n",
       "      <td>35</td>\n",
       "      <td>499.0</td>\n",
       "    </tr>\n",
       "    <tr>\n",
       "      <th>2</th>\n",
       "      <td>BRP</td>\n",
       "      <td>20:20:20  9.30-10.30am</td>\n",
       "      <td>15-Jun-18</td>\n",
       "      <td>9:30:00</td>\n",
       "      <td>35</td>\n",
       "      <td>31</td>\n",
       "      <td>499.0</td>\n",
       "    </tr>\n",
       "    <tr>\n",
       "      <th>3</th>\n",
       "      <td>BRP</td>\n",
       "      <td>20:20:20  9.30-10.30am</td>\n",
       "      <td>22-Jun-18</td>\n",
       "      <td>9:30:00</td>\n",
       "      <td>35</td>\n",
       "      <td>32</td>\n",
       "      <td>499.0</td>\n",
       "    </tr>\n",
       "    <tr>\n",
       "      <th>4</th>\n",
       "      <td>BRP</td>\n",
       "      <td>20:20:20  9.30-10.30am</td>\n",
       "      <td>29-Jun-18</td>\n",
       "      <td>9:30:00</td>\n",
       "      <td>35</td>\n",
       "      <td>19</td>\n",
       "      <td>499.0</td>\n",
       "    </tr>\n",
       "  </tbody>\n",
       "</table>\n",
       "</div>"
      ],
      "text/plain": [
       "  ActivitySiteID     ActivityDescription  \\\n",
       "0            BRP  20:20:20  9.30-10.30am   \n",
       "1            BRP  20:20:20  9.30-10.30am   \n",
       "2            BRP  20:20:20  9.30-10.30am   \n",
       "3            BRP  20:20:20  9.30-10.30am   \n",
       "4            BRP  20:20:20  9.30-10.30am   \n",
       "\n",
       "  BookingEndDateTime (Month / Day / Year) BookingStartTime  MaxBookees  \\\n",
       "0                               01-Jun-18          9:30:00          35   \n",
       "1                               08-Jun-18          9:30:00          35   \n",
       "2                               15-Jun-18          9:30:00          35   \n",
       "3                               22-Jun-18          9:30:00          35   \n",
       "4                               29-Jun-18          9:30:00          35   \n",
       "\n",
       "   Number Booked  Price (INR)  \n",
       "0             28        499.0  \n",
       "1             35        499.0  \n",
       "2             31        499.0  \n",
       "3             32        499.0  \n",
       "4             19        499.0  "
      ]
     },
     "execution_count": 53,
     "metadata": {},
     "output_type": "execute_result"
    }
   ],
   "source": [
    "final_df.head()"
   ]
  },
  {
   "cell_type": "code",
   "execution_count": 54,
   "id": "d97df065-2b1c-4fab-9d4a-e4160bcbd75f",
   "metadata": {},
   "outputs": [
    {
     "data": {
      "text/plain": [
       "(3289, 7)"
      ]
     },
     "execution_count": 54,
     "metadata": {},
     "output_type": "execute_result"
    }
   ],
   "source": [
    "final_df.shape"
   ]
  },
  {
   "cell_type": "code",
   "execution_count": 55,
   "id": "ac7c8e9d-8e0d-4eab-94df-ecb4ffca0352",
   "metadata": {},
   "outputs": [
    {
     "data": {
      "text/html": [
       "<div>\n",
       "<style scoped>\n",
       "    .dataframe tbody tr th:only-of-type {\n",
       "        vertical-align: middle;\n",
       "    }\n",
       "\n",
       "    .dataframe tbody tr th {\n",
       "        vertical-align: top;\n",
       "    }\n",
       "\n",
       "    .dataframe thead th {\n",
       "        text-align: right;\n",
       "    }\n",
       "</style>\n",
       "<table border=\"1\" class=\"dataframe\">\n",
       "  <thead>\n",
       "    <tr style=\"text-align: right;\">\n",
       "      <th></th>\n",
       "      <th>count</th>\n",
       "      <th>mean</th>\n",
       "      <th>std</th>\n",
       "      <th>min</th>\n",
       "      <th>25%</th>\n",
       "      <th>50%</th>\n",
       "      <th>75%</th>\n",
       "      <th>max</th>\n",
       "    </tr>\n",
       "  </thead>\n",
       "  <tbody>\n",
       "    <tr>\n",
       "      <th>MaxBookees</th>\n",
       "      <td>3289.0</td>\n",
       "      <td>32.179386</td>\n",
       "      <td>15.092156</td>\n",
       "      <td>2.0</td>\n",
       "      <td>24.0</td>\n",
       "      <td>30.0</td>\n",
       "      <td>35.0</td>\n",
       "      <td>70.0</td>\n",
       "    </tr>\n",
       "    <tr>\n",
       "      <th>Number Booked</th>\n",
       "      <td>3289.0</td>\n",
       "      <td>17.088781</td>\n",
       "      <td>9.504098</td>\n",
       "      <td>1.0</td>\n",
       "      <td>10.0</td>\n",
       "      <td>16.0</td>\n",
       "      <td>24.0</td>\n",
       "      <td>64.0</td>\n",
       "    </tr>\n",
       "    <tr>\n",
       "      <th>Price (INR)</th>\n",
       "      <td>3271.0</td>\n",
       "      <td>1852.714460</td>\n",
       "      <td>792.636673</td>\n",
       "      <td>499.0</td>\n",
       "      <td>1299.0</td>\n",
       "      <td>1499.0</td>\n",
       "      <td>2499.0</td>\n",
       "      <td>3999.0</td>\n",
       "    </tr>\n",
       "  </tbody>\n",
       "</table>\n",
       "</div>"
      ],
      "text/plain": [
       "                count         mean         std    min     25%     50%     75%  \\\n",
       "MaxBookees     3289.0    32.179386   15.092156    2.0    24.0    30.0    35.0   \n",
       "Number Booked  3289.0    17.088781    9.504098    1.0    10.0    16.0    24.0   \n",
       "Price (INR)    3271.0  1852.714460  792.636673  499.0  1299.0  1499.0  2499.0   \n",
       "\n",
       "                  max  \n",
       "MaxBookees       70.0  \n",
       "Number Booked    64.0  \n",
       "Price (INR)    3999.0  "
      ]
     },
     "execution_count": 55,
     "metadata": {},
     "output_type": "execute_result"
    }
   ],
   "source": [
    "final_df.describe().T"
   ]
  },
  {
   "cell_type": "markdown",
   "id": "45148ba5-c7a7-4911-ba6a-ca21e3a8f9a6",
   "metadata": {},
   "source": [
    "# Data Cleaning And Preprocessing"
   ]
  },
  {
   "cell_type": "code",
   "execution_count": 56,
   "id": "cf22a115-61b1-4e33-bf50-606f5d533c50",
   "metadata": {},
   "outputs": [],
   "source": [
    "final_df.drop_duplicates(inplace=True)"
   ]
  },
  {
   "cell_type": "code",
   "execution_count": 57,
   "id": "0290c3d5-942f-4ce6-8a1f-acc2fb1bb750",
   "metadata": {},
   "outputs": [
    {
     "name": "stdout",
     "output_type": "stream",
     "text": [
      "ActivitySiteID                              0\n",
      "ActivityDescription                         0\n",
      "BookingEndDateTime (Month / Day / Year)     0\n",
      "BookingStartTime                            0\n",
      "MaxBookees                                  0\n",
      "Number Booked                               0\n",
      "Price (INR)                                18\n",
      "dtype: int64\n"
     ]
    }
   ],
   "source": [
    "print(final_df.isnull().sum())"
   ]
  },
  {
   "cell_type": "code",
   "execution_count": 58,
   "id": "7d2f92f8-c066-4769-9c74-fc51cea0bb2d",
   "metadata": {},
   "outputs": [],
   "source": [
    "final_df.dropna(subset = 'Price (INR)', inplace = True)"
   ]
  },
  {
   "cell_type": "code",
   "execution_count": 59,
   "id": "376d44c3-0361-4f43-b04f-23b5632a84bd",
   "metadata": {},
   "outputs": [
    {
     "name": "stdout",
     "output_type": "stream",
     "text": [
      "ActivitySiteID                              object\n",
      "ActivityDescription                         object\n",
      "BookingEndDateTime (Month / Day / Year)     object\n",
      "BookingStartTime                            object\n",
      "MaxBookees                                   int64\n",
      "Number Booked                                int64\n",
      "Price (INR)                                float64\n",
      "dtype: object\n"
     ]
    }
   ],
   "source": [
    "print(final_df.dtypes)"
   ]
  },
  {
   "cell_type": "markdown",
   "id": "925a0c1d-533a-44b8-a280-9fd585448d2c",
   "metadata": {},
   "source": [
    "# Data Standerdize Formats\n",
    "we need to convert object in to date time format for the column 'BookingEndDateTime (Month / Day / Year)' & 'BookingStartTime\n",
    "extracting Year, Month, Day, Weekday"
   ]
  },
  {
   "cell_type": "markdown",
   "id": "032ef71c-fce6-4949-a143-cf17eafb96a0",
   "metadata": {},
   "source": [
    "we need to convert object in to date time format for the column 'BookingEndDateTime (Month / Day / Year)' & 'BookingStartTime'"
   ]
  },
  {
   "cell_type": "code",
   "execution_count": 75,
   "id": "31f4aea3-c9ff-4e59-aaf2-4dc37688bb3c",
   "metadata": {},
   "outputs": [],
   "source": [
    "# Extract Date Features\n",
    "# Convert Date column\n",
    "final_df['BookingEndDateTime (Month / Day / Year)'] = pd.to_datetime(final_df['BookingEndDateTime (Month / Day / Year)'], dayfirst=True)\n",
    "# Convert BookingStartTime to datetime\n",
    "final_df['BookingStartTime'] = pd.to_datetime(final_df['BookingStartTime'], format='%H:%M:%S')\n",
    "\n",
    "# Extract Hour\n",
    "final_df['Hour'] = final_df['BookingStartTime'].dt.hour\n",
    "\n",
    "# Extract Year, Month, Day, Weekday\n",
    "final_df['Year'] = final_df['BookingEndDateTime (Month / Day / Year)'].dt.year\n",
    "final_df['Month'] = final_df['BookingEndDateTime (Month / Day / Year)'].dt.month\n",
    "final_df['Day'] = final_df['BookingEndDateTime (Month / Day / Year)'].dt.day\n",
    "final_df['Weekday'] = final_df['BookingEndDateTime (Month / Day / Year)'].dt.day_name()\n"
   ]
  },
  {
   "cell_type": "markdown",
   "id": "396ffb28-30b9-4c96-a5f7-e912dc1cf43f",
   "metadata": {},
   "source": [
    "# Scaling Numerical Feature"
   ]
  },
  {
   "cell_type": "code",
   "execution_count": 76,
   "id": "430e94ae-683a-4ff2-bd77-6d5c4cf68cef",
   "metadata": {},
   "outputs": [],
   "source": [
    "from sklearn.preprocessing import StandardScaler\n",
    "Numerical_column = ['MaxBookees', 'Number Booked', 'Price (INR)']\n",
    "\n",
    "Scaler = StandardScaler()\n",
    "# Fit And Transform The Numerical Columns\n",
    "scaled_value = Scaler.fit_transform(final_df[Numerical_column])"
   ]
  },
  {
   "cell_type": "code",
   "execution_count": 77,
   "id": "8df8bec4-bc89-4aed-aff5-cdfef8e62d82",
   "metadata": {},
   "outputs": [
    {
     "name": "stdout",
     "output_type": "stream",
     "text": [
      "[[ 0.18358278  1.14296422 -1.70812363]\n",
      " [ 0.18358278  1.87872997 -1.70812363]\n",
      " [ 0.18358278  1.4582924  -1.70812363]\n",
      " ...\n",
      " [ 1.83712189  2.19405815  0.18458382]\n",
      " [ 1.83712189  2.29916754  0.18458382]\n",
      " [ 1.83712189  2.50938632  0.18458382]]\n"
     ]
    }
   ],
   "source": [
    "print(scaled_value)"
   ]
  },
  {
   "cell_type": "markdown",
   "id": "3eaec87a-831c-489d-a464-9c9ada20b1a6",
   "metadata": {},
   "source": [
    "# Data Consistency"
   ]
  },
  {
   "cell_type": "code",
   "execution_count": 78,
   "id": "0bd42cb5-b23a-4869-8200-bfab6edd3f80",
   "metadata": {},
   "outputs": [],
   "source": [
    "# Clean The Text Field\n",
    "final_df['ActivitySiteID'] =  final_df['ActivitySiteID'].str.strip().str.lower()\n",
    "final_df['ActivityDescription'] =  final_df['ActivityDescription'].str.strip().str.lower()"
   ]
  },
  {
   "cell_type": "code",
   "execution_count": 79,
   "id": "d2753564-2815-4f26-9b96-db4e4b6d487f",
   "metadata": {},
   "outputs": [
    {
     "data": {
      "text/html": [
       "<div>\n",
       "<style scoped>\n",
       "    .dataframe tbody tr th:only-of-type {\n",
       "        vertical-align: middle;\n",
       "    }\n",
       "\n",
       "    .dataframe tbody tr th {\n",
       "        vertical-align: top;\n",
       "    }\n",
       "\n",
       "    .dataframe thead th {\n",
       "        text-align: right;\n",
       "    }\n",
       "</style>\n",
       "<table border=\"1\" class=\"dataframe\">\n",
       "  <thead>\n",
       "    <tr style=\"text-align: right;\">\n",
       "      <th></th>\n",
       "      <th>ActivitySiteID</th>\n",
       "      <th>ActivityDescription</th>\n",
       "      <th>BookingEndDateTime (Month / Day / Year)</th>\n",
       "      <th>BookingStartTime</th>\n",
       "      <th>MaxBookees</th>\n",
       "      <th>Number Booked</th>\n",
       "      <th>Price (INR)</th>\n",
       "      <th>Hour</th>\n",
       "      <th>Year</th>\n",
       "      <th>Month</th>\n",
       "      <th>Day</th>\n",
       "      <th>Weekday</th>\n",
       "      <th>class</th>\n",
       "    </tr>\n",
       "  </thead>\n",
       "  <tbody>\n",
       "    <tr>\n",
       "      <th>0</th>\n",
       "      <td>brp</td>\n",
       "      <td>20:20:20  9.30-10.30am</td>\n",
       "      <td>2018-06-01</td>\n",
       "      <td>1900-01-01 09:30:00</td>\n",
       "      <td>35</td>\n",
       "      <td>28</td>\n",
       "      <td>499.0</td>\n",
       "      <td>9</td>\n",
       "      <td>2018</td>\n",
       "      <td>6</td>\n",
       "      <td>1</td>\n",
       "      <td>Friday</td>\n",
       "      <td>20:20:20</td>\n",
       "    </tr>\n",
       "    <tr>\n",
       "      <th>1</th>\n",
       "      <td>brp</td>\n",
       "      <td>20:20:20  9.30-10.30am</td>\n",
       "      <td>2018-06-08</td>\n",
       "      <td>1900-01-01 09:30:00</td>\n",
       "      <td>35</td>\n",
       "      <td>35</td>\n",
       "      <td>499.0</td>\n",
       "      <td>9</td>\n",
       "      <td>2018</td>\n",
       "      <td>6</td>\n",
       "      <td>8</td>\n",
       "      <td>Friday</td>\n",
       "      <td>20:20:20</td>\n",
       "    </tr>\n",
       "    <tr>\n",
       "      <th>2</th>\n",
       "      <td>brp</td>\n",
       "      <td>20:20:20  9.30-10.30am</td>\n",
       "      <td>2018-06-15</td>\n",
       "      <td>1900-01-01 09:30:00</td>\n",
       "      <td>35</td>\n",
       "      <td>31</td>\n",
       "      <td>499.0</td>\n",
       "      <td>9</td>\n",
       "      <td>2018</td>\n",
       "      <td>6</td>\n",
       "      <td>15</td>\n",
       "      <td>Friday</td>\n",
       "      <td>20:20:20</td>\n",
       "    </tr>\n",
       "    <tr>\n",
       "      <th>3</th>\n",
       "      <td>brp</td>\n",
       "      <td>20:20:20  9.30-10.30am</td>\n",
       "      <td>2018-06-22</td>\n",
       "      <td>1900-01-01 09:30:00</td>\n",
       "      <td>35</td>\n",
       "      <td>32</td>\n",
       "      <td>499.0</td>\n",
       "      <td>9</td>\n",
       "      <td>2018</td>\n",
       "      <td>6</td>\n",
       "      <td>22</td>\n",
       "      <td>Friday</td>\n",
       "      <td>20:20:20</td>\n",
       "    </tr>\n",
       "    <tr>\n",
       "      <th>4</th>\n",
       "      <td>brp</td>\n",
       "      <td>20:20:20  9.30-10.30am</td>\n",
       "      <td>2018-06-29</td>\n",
       "      <td>1900-01-01 09:30:00</td>\n",
       "      <td>35</td>\n",
       "      <td>19</td>\n",
       "      <td>499.0</td>\n",
       "      <td>9</td>\n",
       "      <td>2018</td>\n",
       "      <td>6</td>\n",
       "      <td>29</td>\n",
       "      <td>Friday</td>\n",
       "      <td>20:20:20</td>\n",
       "    </tr>\n",
       "  </tbody>\n",
       "</table>\n",
       "</div>"
      ],
      "text/plain": [
       "  ActivitySiteID     ActivityDescription  \\\n",
       "0            brp  20:20:20  9.30-10.30am   \n",
       "1            brp  20:20:20  9.30-10.30am   \n",
       "2            brp  20:20:20  9.30-10.30am   \n",
       "3            brp  20:20:20  9.30-10.30am   \n",
       "4            brp  20:20:20  9.30-10.30am   \n",
       "\n",
       "  BookingEndDateTime (Month / Day / Year)    BookingStartTime  MaxBookees  \\\n",
       "0                              2018-06-01 1900-01-01 09:30:00          35   \n",
       "1                              2018-06-08 1900-01-01 09:30:00          35   \n",
       "2                              2018-06-15 1900-01-01 09:30:00          35   \n",
       "3                              2018-06-22 1900-01-01 09:30:00          35   \n",
       "4                              2018-06-29 1900-01-01 09:30:00          35   \n",
       "\n",
       "   Number Booked  Price (INR)  Hour  Year  Month  Day Weekday     class  \n",
       "0             28        499.0     9  2018      6    1  Friday  20:20:20  \n",
       "1             35        499.0     9  2018      6    8  Friday  20:20:20  \n",
       "2             31        499.0     9  2018      6   15  Friday  20:20:20  \n",
       "3             32        499.0     9  2018      6   22  Friday  20:20:20  \n",
       "4             19        499.0     9  2018      6   29  Friday  20:20:20  "
      ]
     },
     "execution_count": 79,
     "metadata": {},
     "output_type": "execute_result"
    }
   ],
   "source": [
    "final_df.head()"
   ]
  },
  {
   "cell_type": "code",
   "execution_count": 80,
   "id": "9bb4afe7-91b2-4867-94cc-2763c432f243",
   "metadata": {},
   "outputs": [],
   "source": [
    "import re\n",
    "def split_activity_description(ActivityDescription):\n",
    "    ActivityDescription = ActivityDescription.strip()  # Remove leading and trailing whitespace\n",
    "    # Regular expression to find time ranges (e.g., \"6.00-7.00pm\")\n",
    "    match = re.search(r'\\b\\d{1,2}[:.]\\d{2}\\s*-\\s*\\d{1,2}[:.]\\d{2}(?:am|pm)?\\b', ActivityDescription, re.IGNORECASE)\n",
    "    if match:\n",
    "        time = match.group(0)\n",
    "        class_name = ActivityDescription.replace(time, '').strip()\n",
    "        return pd.Series([class_name, time])\n",
    "    else:\n",
    "        return pd.Series([ActivityDescription, None])"
   ]
  },
  {
   "cell_type": "code",
   "execution_count": 81,
   "id": "6f2c3059-f5f5-44e3-a23d-4deeee835247",
   "metadata": {},
   "outputs": [],
   "source": [
    "final_df[['class', 'class_time']] = final_df['ActivityDescription'].apply(split_activity_description)"
   ]
  },
  {
   "cell_type": "code",
   "execution_count": 82,
   "id": "fb273b5c-01b7-4868-96d5-9063fdd57ca4",
   "metadata": {},
   "outputs": [
    {
     "data": {
      "text/html": [
       "<div>\n",
       "<style scoped>\n",
       "    .dataframe tbody tr th:only-of-type {\n",
       "        vertical-align: middle;\n",
       "    }\n",
       "\n",
       "    .dataframe tbody tr th {\n",
       "        vertical-align: top;\n",
       "    }\n",
       "\n",
       "    .dataframe thead th {\n",
       "        text-align: right;\n",
       "    }\n",
       "</style>\n",
       "<table border=\"1\" class=\"dataframe\">\n",
       "  <thead>\n",
       "    <tr style=\"text-align: right;\">\n",
       "      <th></th>\n",
       "      <th>ActivitySiteID</th>\n",
       "      <th>ActivityDescription</th>\n",
       "      <th>BookingEndDateTime (Month / Day / Year)</th>\n",
       "      <th>BookingStartTime</th>\n",
       "      <th>MaxBookees</th>\n",
       "      <th>Number Booked</th>\n",
       "      <th>Price (INR)</th>\n",
       "      <th>Hour</th>\n",
       "      <th>Year</th>\n",
       "      <th>Month</th>\n",
       "      <th>Day</th>\n",
       "      <th>Weekday</th>\n",
       "      <th>class</th>\n",
       "      <th>class_time</th>\n",
       "    </tr>\n",
       "  </thead>\n",
       "  <tbody>\n",
       "    <tr>\n",
       "      <th>0</th>\n",
       "      <td>brp</td>\n",
       "      <td>20:20:20  9.30-10.30am</td>\n",
       "      <td>2018-06-01</td>\n",
       "      <td>1900-01-01 09:30:00</td>\n",
       "      <td>35</td>\n",
       "      <td>28</td>\n",
       "      <td>499.0</td>\n",
       "      <td>9</td>\n",
       "      <td>2018</td>\n",
       "      <td>6</td>\n",
       "      <td>1</td>\n",
       "      <td>Friday</td>\n",
       "      <td>20:20:20</td>\n",
       "      <td>9.30-10.30am</td>\n",
       "    </tr>\n",
       "    <tr>\n",
       "      <th>1</th>\n",
       "      <td>brp</td>\n",
       "      <td>20:20:20  9.30-10.30am</td>\n",
       "      <td>2018-06-08</td>\n",
       "      <td>1900-01-01 09:30:00</td>\n",
       "      <td>35</td>\n",
       "      <td>35</td>\n",
       "      <td>499.0</td>\n",
       "      <td>9</td>\n",
       "      <td>2018</td>\n",
       "      <td>6</td>\n",
       "      <td>8</td>\n",
       "      <td>Friday</td>\n",
       "      <td>20:20:20</td>\n",
       "      <td>9.30-10.30am</td>\n",
       "    </tr>\n",
       "    <tr>\n",
       "      <th>2</th>\n",
       "      <td>brp</td>\n",
       "      <td>20:20:20  9.30-10.30am</td>\n",
       "      <td>2018-06-15</td>\n",
       "      <td>1900-01-01 09:30:00</td>\n",
       "      <td>35</td>\n",
       "      <td>31</td>\n",
       "      <td>499.0</td>\n",
       "      <td>9</td>\n",
       "      <td>2018</td>\n",
       "      <td>6</td>\n",
       "      <td>15</td>\n",
       "      <td>Friday</td>\n",
       "      <td>20:20:20</td>\n",
       "      <td>9.30-10.30am</td>\n",
       "    </tr>\n",
       "    <tr>\n",
       "      <th>3</th>\n",
       "      <td>brp</td>\n",
       "      <td>20:20:20  9.30-10.30am</td>\n",
       "      <td>2018-06-22</td>\n",
       "      <td>1900-01-01 09:30:00</td>\n",
       "      <td>35</td>\n",
       "      <td>32</td>\n",
       "      <td>499.0</td>\n",
       "      <td>9</td>\n",
       "      <td>2018</td>\n",
       "      <td>6</td>\n",
       "      <td>22</td>\n",
       "      <td>Friday</td>\n",
       "      <td>20:20:20</td>\n",
       "      <td>9.30-10.30am</td>\n",
       "    </tr>\n",
       "    <tr>\n",
       "      <th>4</th>\n",
       "      <td>brp</td>\n",
       "      <td>20:20:20  9.30-10.30am</td>\n",
       "      <td>2018-06-29</td>\n",
       "      <td>1900-01-01 09:30:00</td>\n",
       "      <td>35</td>\n",
       "      <td>19</td>\n",
       "      <td>499.0</td>\n",
       "      <td>9</td>\n",
       "      <td>2018</td>\n",
       "      <td>6</td>\n",
       "      <td>29</td>\n",
       "      <td>Friday</td>\n",
       "      <td>20:20:20</td>\n",
       "      <td>9.30-10.30am</td>\n",
       "    </tr>\n",
       "  </tbody>\n",
       "</table>\n",
       "</div>"
      ],
      "text/plain": [
       "  ActivitySiteID     ActivityDescription  \\\n",
       "0            brp  20:20:20  9.30-10.30am   \n",
       "1            brp  20:20:20  9.30-10.30am   \n",
       "2            brp  20:20:20  9.30-10.30am   \n",
       "3            brp  20:20:20  9.30-10.30am   \n",
       "4            brp  20:20:20  9.30-10.30am   \n",
       "\n",
       "  BookingEndDateTime (Month / Day / Year)    BookingStartTime  MaxBookees  \\\n",
       "0                              2018-06-01 1900-01-01 09:30:00          35   \n",
       "1                              2018-06-08 1900-01-01 09:30:00          35   \n",
       "2                              2018-06-15 1900-01-01 09:30:00          35   \n",
       "3                              2018-06-22 1900-01-01 09:30:00          35   \n",
       "4                              2018-06-29 1900-01-01 09:30:00          35   \n",
       "\n",
       "   Number Booked  Price (INR)  Hour  Year  Month  Day Weekday     class  \\\n",
       "0             28        499.0     9  2018      6    1  Friday  20:20:20   \n",
       "1             35        499.0     9  2018      6    8  Friday  20:20:20   \n",
       "2             31        499.0     9  2018      6   15  Friday  20:20:20   \n",
       "3             32        499.0     9  2018      6   22  Friday  20:20:20   \n",
       "4             19        499.0     9  2018      6   29  Friday  20:20:20   \n",
       "\n",
       "     class_time  \n",
       "0  9.30-10.30am  \n",
       "1  9.30-10.30am  \n",
       "2  9.30-10.30am  \n",
       "3  9.30-10.30am  \n",
       "4  9.30-10.30am  "
      ]
     },
     "execution_count": 82,
     "metadata": {},
     "output_type": "execute_result"
    }
   ],
   "source": [
    "final_df.head()"
   ]
  },
  {
   "cell_type": "code",
   "execution_count": 83,
   "id": "9c4b18e4-3034-4db8-8825-194f292920cd",
   "metadata": {},
   "outputs": [
    {
     "data": {
      "text/plain": [
       "ActivitySiteID                              0.000000\n",
       "ActivityDescription                         0.000000\n",
       "BookingEndDateTime (Month / Day / Year)     0.000000\n",
       "BookingStartTime                            0.000000\n",
       "MaxBookees                                  0.000000\n",
       "Number Booked                               0.000000\n",
       "Price (INR)                                 0.000000\n",
       "Hour                                        0.000000\n",
       "Year                                        0.000000\n",
       "Month                                       0.000000\n",
       "Day                                         0.000000\n",
       "Weekday                                     0.000000\n",
       "class                                       0.000000\n",
       "class_time                                 31.152553\n",
       "dtype: float64"
      ]
     },
     "execution_count": 83,
     "metadata": {},
     "output_type": "execute_result"
    }
   ],
   "source": [
    "(final_df.isnull().sum() / len(final_df)) * 100"
   ]
  },
  {
   "cell_type": "markdown",
   "id": "7b38f2ce-d3be-413b-99d2-42e48778943e",
   "metadata": {},
   "source": [
    " Class_time is not required us so we drop column \"Class_time\""
   ]
  },
  {
   "cell_type": "code",
   "execution_count": 84,
   "id": "b5fc2eed-9706-411d-9932-ce96d7fdf945",
   "metadata": {},
   "outputs": [],
   "source": [
    "final_df = final_df.drop(columns = [\"class_time\"])"
   ]
  },
  {
   "cell_type": "code",
   "execution_count": 85,
   "id": "afcbc393-e5fb-446e-9b4b-20dbb8c6df11",
   "metadata": {},
   "outputs": [
    {
     "name": "stdout",
     "output_type": "stream",
     "text": [
      "  ActivitySiteID  Bookings\n",
      "0            brp       727\n",
      "1            hxp       771\n",
      "2            nbl       529\n",
      "3            sbp       731\n",
      "4            tsc       513\n"
     ]
    }
   ],
   "source": [
    "# Analyze Demand\n",
    "location_demand = final_df.groupby(['ActivitySiteID']).size().reset_index(name='Bookings')\n",
    "print(location_demand)"
   ]
  },
  {
   "cell_type": "code",
   "execution_count": null,
   "id": "a69b0886-fcf7-4308-bca4-029d4c539530",
   "metadata": {},
   "outputs": [],
   "source": []
  },
  {
   "cell_type": "code",
   "execution_count": 86,
   "id": "9eff811b-8a71-4ab4-b9b0-e8669616cbc2",
   "metadata": {},
   "outputs": [
    {
     "name": "stdout",
     "output_type": "stream",
     "text": [
      "         ActivityDescription  Bookings\n",
      "0    20-20-20  2.45pm-3.45pm         8\n",
      "1       20-20-20 7.00-8.00pm        13\n",
      "2      20-20-20 9.30-10.30am        26\n",
      "3         20:20:20  10-11 am        13\n",
      "4    20:20:20  10.00-11.00am        11\n",
      "..                       ...       ...\n",
      "275      zumba 6.00 - 7.00pm         2\n",
      "276        zumba 6.15-7.15pm        13\n",
      "277       zumba 9.30-10.30am        13\n",
      "278   zumba gold 1.45-2.45pm        13\n",
      "279  zumba gold 12.45-1.45pm        13\n",
      "\n",
      "[280 rows x 2 columns]\n"
     ]
    }
   ],
   "source": [
    "class_demand = final_df.groupby(['ActivityDescription']).size().reset_index(name='Bookings')\n",
    "print(class_demand)\n"
   ]
  },
  {
   "cell_type": "code",
   "execution_count": 87,
   "id": "b997b3b5-eafa-4433-b19f-a936cd752c36",
   "metadata": {},
   "outputs": [],
   "source": [
    "final_df.to_csv(\"cultfitcleaned.csv\", index = False)"
   ]
  },
  {
   "cell_type": "markdown",
   "id": "6cb4c012-700e-4d77-a8bc-295057ea4f3d",
   "metadata": {},
   "source": [
    "# Features Visualisation"
   ]
  },
  {
   "cell_type": "markdown",
   "id": "98f729b1-62cd-427b-9be1-f680e051fbc4",
   "metadata": {},
   "source": [
    "## Booking per Day"
   ]
  },
  {
   "cell_type": "code",
   "execution_count": 88,
   "id": "1439c0d4-cece-41c9-9a57-584c8aeb96a9",
   "metadata": {},
   "outputs": [
    {
     "data": {
      "image/png": "[encoded data removed]",
      "text/plain": [
       "<Figure size 1000x500 with 1 Axes>"
      ]
     },
     "metadata": {},
     "output_type": "display_data"
    }
   ],
   "source": [
    "plt.figure(figsize=(10,5))\n",
    "sns.countplot(data=final_df, x='Weekday', order=['Monday','Tuesday','Wednesday','Thursday','Friday','Saturday','Sunday'])\n",
    "plt.title('Bookings per Day')\n",
    "plt.show()"
   ]
  },
  {
   "cell_type": "markdown",
   "id": "ec8dcc3b-69cf-4e32-8bec-9c144c4d5950",
   "metadata": {},
   "source": [
    "## Booking Per Hour"
   ]
  },
  {
   "cell_type": "code",
   "execution_count": 89,
   "id": "b7d18d99-5d0e-41d7-b442-cdf61f5a5e80",
   "metadata": {},
   "outputs": [
    {
     "data": {
      "image/png": "[encoded data removed]",
      "text/plain": [
       "<Figure size 1000x500 with 1 Axes>"
      ]
     },
     "metadata": {},
     "output_type": "display_data"
    }
   ],
   "source": [
    "plt.figure(figsize=(10,5))\n",
    "sns.countplot(data=final_df, x='Hour')\n",
    "plt.title('Bookings per Hour')\n",
    "plt.show()"
   ]
  },
  {
   "cell_type": "code",
   "execution_count": null,
   "id": "f23a85a9-0caf-49fc-9add-f2da235832f3",
   "metadata": {},
   "outputs": [],
   "source": []
  },
  {
   "cell_type": "code",
   "execution_count": null,
   "id": "d3591922-0251-4ec4-93fa-1f6ac4a11bea",
   "metadata": {},
   "outputs": [],
   "source": []
  },
  {
   "cell_type": "code",
   "execution_count": null,
   "id": "32337f1d-d5ba-4708-a26b-3b113d1508be",
   "metadata": {},
   "outputs": [],
   "source": []
  },
  {
   "cell_type": "code",
   "execution_count": null,
   "id": "078e0901-d6e2-4f73-ae8e-10c7bc53fcc9",
   "metadata": {},
   "outputs": [],
   "source": []
  }
 ],
 "metadata": {
  "kernelspec": {
   "display_name": "Python 3 (ipykernel)",
   "language": "python",
   "name": "python3"
  },
  "language_info": {
   "codemirror_mode": {
    "name": "ipython",
    "version": 3
   },
   "file_extension": ".py",
   "mimetype": "text/x-python",
   "name": "python",
   "nbconvert_exporter": "python",
   "pygments_lexer": "ipython3",
   "version": "3.12.7"
  }
 },
 "nbformat": 4,
 "nbformat_minor": 5
}
